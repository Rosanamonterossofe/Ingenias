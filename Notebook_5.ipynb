{
 "cells": [
  {
   "cell_type": "markdown",
   "id": "375a4724",
   "metadata": {},
   "source": [
    "# Programa Ingenias+ Data Science"
   ]
  },
  {
   "cell_type": "markdown",
   "id": "595772f7",
   "metadata": {},
   "source": [
    "Como dijimos en clases anteriores, Python tiene implementadas muchas librerias para poder trabajar con datos. En la clase de hoy trabajaremos con una de ellas: Numpy.\n",
    "\n",
    "Antes de comenzar, vamos a hablar un poco de esta libreria o modulo.\n",
    "\n",
    "Numpy es una librería optimizada para realizar cálculos numéricos con vectores y matrices. A diferencia de otros lenguajes de programación, Python no posee en su estructura central la figura de matrices. Eso quiere decir que para poder trabajar con esta estructura de datos deberiamos trabajar con listas de listas. NumPy introduce el concepto de arrays o matrices.\n",
    "\n",
    "Al ser de código abierto, numpy posee una documentación muy amplia que es SIEMPRE RECOMENDABLE consultar."
   ]
  },
  {
   "cell_type": "markdown",
   "id": "3d32ee31",
   "metadata": {},
   "source": [
    "# Clase 4: Introduccion a NumPy"
   ]
  },
  {
   "cell_type": "markdown",
   "id": "f0dad7f9",
   "metadata": {},
   "source": [
    "# Ejercicios"
   ]
  },
  {
   "cell_type": "code",
   "execution_count": 1,
   "id": "acaa932a",
   "metadata": {},
   "outputs": [],
   "source": [
    "# PUNTO 1 - Crear un arreglo de ceros de longitud 12\n",
    "import numpy as np\n"
   ]
  },
  {
   "cell_type": "code",
   "execution_count": 2,
   "id": "604c644a",
   "metadata": {},
   "outputs": [
    {
     "data": {
      "text/plain": [
       "array([0., 0., 0., 0., 0., 0., 0., 0., 0., 0., 0., 0.])"
      ]
     },
     "execution_count": 2,
     "metadata": {},
     "output_type": "execute_result"
    }
   ],
   "source": [
    "# PUNTO 2 - Crear un arreglo de ceros de longitud 12\n",
    "arreglo = np.zeros(12) \n",
    "arreglo"
   ]
  },
  {
   "cell_type": "code",
   "execution_count": 3,
   "id": "347791fa",
   "metadata": {},
   "outputs": [
    {
     "name": "stdout",
     "output_type": "stream",
     "text": [
      "[ 0.  0.  0.  0. 10.  0.  0.  0.  0.  0.  0.  0.]\n"
     ]
    }
   ],
   "source": [
    "# PUNTO 3 - Crear un arreglo de longitud 10 con ceros en todas sus posiciones y un 10 en la posición número 5\n",
    "arreglo[4]=10\n",
    "print(arreglo)"
   ]
  },
  {
   "cell_type": "code",
   "execution_count": 4,
   "id": "ca82bb31",
   "metadata": {},
   "outputs": [
    {
     "data": {
      "text/plain": [
       "array([10, 11, 12, 13, 14, 15, 16, 17, 18, 19, 20, 21, 22, 23, 24, 25, 26,\n",
       "       27, 28, 29, 30, 31, 32, 33, 34, 35, 36, 37, 38, 39, 40, 41, 42, 43,\n",
       "       44, 45, 46, 47, 48, 49])"
      ]
     },
     "execution_count": 4,
     "metadata": {},
     "output_type": "execute_result"
    }
   ],
   "source": [
    "# PUNTO 4 - Crear un arreglo que tenga los números del 10 al 49\n",
    "np.arange (10,50,1)"
   ]
  },
  {
   "cell_type": "code",
   "execution_count": 5,
   "id": "16108a5c",
   "metadata": {},
   "outputs": [
    {
     "name": "stdout",
     "output_type": "stream",
     "text": [
      "[[0 1 2]\n",
      " [3 4 5]\n",
      " [6 7 8]]\n"
     ]
    }
   ],
   "source": [
    "# PUNTO 5 - Crear una arreglo 2d de shape (3, 3) que tenga los números del 0 al 8\n",
    "arreglo4 = np.arange(9).reshape(3, 3) #Crear una arreglo 2d de shape (3, 3) que tenga los números del 0 al 8\n",
    "print(arreglo4)"
   ]
  },
  {
   "cell_type": "code",
   "execution_count": 6,
   "id": "73bf3d68",
   "metadata": {},
   "outputs": [
    {
     "name": "stdout",
     "output_type": "stream",
     "text": [
      "[5.14631949e-02 3.36957485e-01 8.67332384e-01 5.26686212e-01\n",
      " 8.79327785e-01 5.78280368e-01 5.24370002e-01 3.37253266e-01\n",
      " 5.21394649e-01 4.32039394e-01 1.66167826e-01 6.59592082e-01\n",
      " 4.45586354e-01 5.02348899e-01 1.25066649e-01 3.37873411e-01\n",
      " 3.03009063e-01 1.75711097e-01 3.57159184e-01 2.07157307e-01\n",
      " 2.14228892e-01 3.14926474e-01 1.15315335e-01 4.46921841e-01\n",
      " 3.23245504e-01 8.10009969e-02 2.86820054e-01 9.19851090e-02\n",
      " 4.33713304e-01 5.54798469e-01 1.90400501e-01 8.08472629e-01\n",
      " 2.44275536e-02 7.47445289e-01 3.23337146e-01 7.24320332e-03\n",
      " 9.86374966e-03 4.34953357e-01 3.00630876e-01 2.37503367e-02\n",
      " 2.83376525e-01 4.38305753e-01 1.96663239e-01 6.10911298e-01\n",
      " 2.72524812e-01 4.96422159e-01 1.87019790e-01 7.16314180e-01\n",
      " 1.67525222e-01 6.36288861e-01 4.88502315e-01 7.22053042e-01\n",
      " 7.44139758e-01 9.85187046e-01 9.74136368e-01 3.22684331e-01\n",
      " 9.26848022e-02 3.12417723e-01 4.06539539e-01 8.53515325e-01\n",
      " 7.64844620e-01 7.00046030e-01 5.48985552e-01 5.08570431e-01\n",
      " 1.31347660e-01 6.60746564e-02 5.67842704e-01 3.86207630e-01\n",
      " 7.37872237e-01 7.19609731e-01 6.28781193e-01 7.90832571e-02\n",
      " 1.53943549e-02 7.51402140e-01 2.98355958e-01 8.48108835e-01\n",
      " 5.45900412e-02 1.78958160e-01 7.82367579e-01 9.31428006e-02\n",
      " 2.70342435e-01 6.36944050e-01 5.62027206e-01 8.34937855e-01\n",
      " 7.03199127e-01 2.78617129e-01 3.28657923e-02 1.74770343e-01\n",
      " 6.39563320e-01 8.53035759e-01 5.86506398e-03 9.19229237e-04\n",
      " 5.47344740e-01 5.98716193e-01 8.73417726e-01 9.34937957e-01\n",
      " 4.55554438e-01 2.05760351e-02 6.09005264e-01 7.11272801e-01]\n"
     ]
    }
   ],
   "source": [
    "# PUNTO 5 - Crear un arreglo de números aleatorios de longitud 100 y obtener su media y varianza\n",
    "arreglo5 = np.random.rand(100) \n",
    "print(arreglo5)"
   ]
  },
  {
   "cell_type": "code",
   "execution_count": 7,
   "id": "515b8ffb",
   "metadata": {},
   "outputs": [
    {
     "data": {
      "text/plain": [
       "0.42580967357633065"
      ]
     },
     "execution_count": 7,
     "metadata": {},
     "output_type": "execute_result"
    }
   ],
   "source": [
    "np.mean(arreglo5)"
   ]
  },
  {
   "cell_type": "code",
   "execution_count": 8,
   "id": "3c686cb2",
   "metadata": {},
   "outputs": [
    {
     "data": {
      "text/plain": [
       "0.07552163611657446"
      ]
     },
     "execution_count": 8,
     "metadata": {},
     "output_type": "execute_result"
    }
   ],
   "source": [
    "np.var(arreglo5)"
   ]
  },
  {
   "cell_type": "code",
   "execution_count": 11,
   "id": "29d32c2f",
   "metadata": {},
   "outputs": [
    {
     "name": "stdout",
     "output_type": "stream",
     "text": [
      "3.0\n"
     ]
    }
   ],
   "source": [
    "# PUNTO 6 - Calcular la media de un arreglo usando np.sum\n",
    "arreglo_media = np.array([1, 2, 3, 4, 5]) \n",
    "media = np.sum(arreglo_media) / arreglo_media.size\n",
    "print(media)"
   ]
  },
  {
   "cell_type": "code",
   "execution_count": 12,
   "id": "f869e85e",
   "metadata": {},
   "outputs": [
    {
     "name": "stdout",
     "output_type": "stream",
     "text": [
      "[1 2 3 4 5]\n",
      "3.0\n",
      "2.0\n"
     ]
    }
   ],
   "source": [
    "# PUNTO 7 - Calcular la varianza de un arreglo usando np.sum y np.mean\n",
    "arreglo_varianza = np.array([1, 2, 3, 4, 5]) \n",
    "media = np.mean(arreglo_varianza)\n",
    "varianza = np.sum((arreglo_media - media) ** 2) / arreglo_varianza.size\n",
    "print(arreglo_varianza)\n",
    "print(media)\n",
    "print(varianza)"
   ]
  },
  {
   "cell_type": "code",
   "execution_count": 13,
   "id": "370ee2e7",
   "metadata": {},
   "outputs": [
    {
     "name": "stdout",
     "output_type": "stream",
     "text": [
      "[0.18022832 0.68537816 0.6339479  0.7304017  0.47436185 0.81755645\n",
      " 0.95640688 0.87664714 0.93224685 0.84027704 0.88525174 0.72936513\n",
      " 0.13844433 0.26632953 0.86521686 0.51352997 0.58434767 0.50499581\n",
      " 0.66670943 0.32640808 0.26493877 0.09665038 0.56375662 0.75587475\n",
      " 0.28894787 0.83543109 0.58144184 0.63570017 0.97822314 0.8220871 ]\n"
     ]
    }
   ],
   "source": [
    " # PUNTO 8 - Crear un array de números aleatorios usando np.random.randn\n",
    "arreglo8 = np.random.rand(30)\n",
    "print(arreglo8)"
   ]
  },
  {
   "cell_type": "code",
   "execution_count": null,
   "id": "f52c59d5",
   "metadata": {},
   "outputs": [],
   "source": []
  }
 ],
 "metadata": {
  "kernelspec": {
   "display_name": "Python 3 (ipykernel)",
   "language": "python",
   "name": "python3"
  },
  "language_info": {
   "codemirror_mode": {
    "name": "ipython",
    "version": 3
   },
   "file_extension": ".py",
   "mimetype": "text/x-python",
   "name": "python",
   "nbconvert_exporter": "python",
   "pygments_lexer": "ipython3",
   "version": "3.11.3"
  }
 },
 "nbformat": 4,
 "nbformat_minor": 5
}
